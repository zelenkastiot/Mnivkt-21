{
 "cells": [
  {
   "cell_type": "markdown",
   "id": "8b2cca29",
   "metadata": {},
   "source": [
    "# Вовед во Jupyter\n",
    "*** \n",
    "📬 email: @zelenkastiot@gmail.com | *16-Dec-21* "
   ]
  },
  {
   "cell_type": "code",
   "execution_count": null,
   "id": "531fe7a7",
   "metadata": {},
   "outputs": [],
   "source": []
  },
  {
   "cell_type": "markdown",
   "id": "6697e578",
   "metadata": {},
   "source": [
    "Ова е демо markdown ќелија, $a^2$"
   ]
  },
  {
   "cell_type": "code",
   "execution_count": null,
   "id": "0ffa18f8",
   "metadata": {},
   "outputs": [],
   "source": [
    "# пример Code ќелија"
   ]
  },
  {
   "cell_type": "markdown",
   "id": "db87bfdb",
   "metadata": {},
   "source": [
    "# 1. Мarkdown"
   ]
  },
  {
   "cell_type": "markdown",
   "id": "2c8ad18f",
   "metadata": {},
   "source": [
    "# 1.1  Слики\n",
    "***\n",
    "\n",
    "**Прв начин (MD):**\n",
    "\n",
    "<!-- ![Cat](images/1-lorenz.jpg) -->\n",
    "\n",
    "**Втор начин (HTML):** \n",
    "<!-- <img src=\"images/1-image.png\" width=\"200\" height=\"200\" /> -->"
   ]
  },
  {
   "cell_type": "code",
   "execution_count": null,
   "id": "fcb12f16",
   "metadata": {},
   "outputs": [],
   "source": []
  },
  {
   "cell_type": "markdown",
   "id": "fe495eb2",
   "metadata": {},
   "source": [
    "## 1.2 Формули\n",
    "***\n",
    "\n",
    "**Прв начин (посебно):**\n",
    "\n",
    "\n",
    "\\begin{align}\n",
    "\\frac{\\partial}{\\partial t}f(x,t)=\\mathcal{D}\\frac{\\partial^{2}}{\\partial x^2} f(x,t)-\\mathcal{P}_{\\mathrm{fa}}(t)\\delta(x-X),\n",
    "\\end{align}\n",
    "\n",
    "\n",
    "**Втор начин (во текст):** \n",
    "\n",
    "\n",
    "Inline формула $e^{i\\pi} + 1 = 0$"
   ]
  },
  {
   "cell_type": "code",
   "execution_count": null,
   "id": "3843777c",
   "metadata": {},
   "outputs": [],
   "source": []
  },
  {
   "cell_type": "markdown",
   "id": "e5b74769",
   "metadata": {},
   "source": [
    "## 1.3 Видео"
   ]
  },
  {
   "cell_type": "code",
   "execution_count": null,
   "id": "1911164e",
   "metadata": {},
   "outputs": [],
   "source": [
    "from IPython.display import IFrame\n",
    "\n",
    "# Youtube\n",
    "display(IFrame(\"https://www.youtube.com/embed/8DuBV-nYkLk\", 500, 290))"
   ]
  },
  {
   "cell_type": "code",
   "execution_count": null,
   "id": "adf35e18",
   "metadata": {},
   "outputs": [],
   "source": []
  },
  {
   "cell_type": "markdown",
   "id": "25c72483",
   "metadata": {},
   "source": [
    "## 1.4 Линк\n",
    "Дискографија на Шпато достапна [тука](https://www.youtube.com/watch?v=8DuBV-nYkLk&t=14s). "
   ]
  },
  {
   "cell_type": "code",
   "execution_count": null,
   "id": "fd84c5ac",
   "metadata": {},
   "outputs": [],
   "source": []
  },
  {
   "cell_type": "markdown",
   "id": "708d6a5a",
   "metadata": {},
   "source": [
    "## 1.5 Gif"
   ]
  },
  {
   "cell_type": "markdown",
   "id": "1a577663",
   "metadata": {},
   "source": [
    "<p align=\"center\">\n",
    "<img src=\"https://upload.wikimedia.org/wikipedia/commons/5/51/Brownianmotion5particles150frame.gif\" width=30%;></img> \n",
    "<br> <br> </p>\n",
    "\n",
    "<center> Gif1: Simple simulation of the Brownian motion <a href=\"https://weelookang.blogspot.com/2010/06/ejs-open-source-brownian-motion-gas.html\">[Source]</a> </center>"
   ]
  },
  {
   "cell_type": "code",
   "execution_count": null,
   "id": "691f16fc",
   "metadata": {},
   "outputs": [],
   "source": []
  },
  {
   "cell_type": "markdown",
   "id": "30bac544",
   "metadata": {},
   "source": [
    "# 2. Код"
   ]
  },
  {
   "cell_type": "code",
   "execution_count": null,
   "id": "6a959abf",
   "metadata": {},
   "outputs": [],
   "source": [
    "print(\"Здраво свету!\")"
   ]
  },
  {
   "cell_type": "code",
   "execution_count": null,
   "id": "f4eb0e41",
   "metadata": {},
   "outputs": [],
   "source": [
    "a=10"
   ]
  },
  {
   "cell_type": "code",
   "execution_count": null,
   "id": "c4feac8d",
   "metadata": {},
   "outputs": [],
   "source": [
    "a"
   ]
  },
  {
   "cell_type": "code",
   "execution_count": null,
   "id": "bd40e109",
   "metadata": {},
   "outputs": [],
   "source": [
    "print(a)"
   ]
  },
  {
   "cell_type": "code",
   "execution_count": null,
   "id": "e0fe30b1",
   "metadata": {},
   "outputs": [],
   "source": [
    "x, y = 10, 20"
   ]
  },
  {
   "cell_type": "code",
   "execution_count": null,
   "id": "2569003f",
   "metadata": {},
   "outputs": [],
   "source": [
    "x"
   ]
  },
  {
   "cell_type": "code",
   "execution_count": null,
   "id": "80f14717",
   "metadata": {},
   "outputs": [],
   "source": [
    "y"
   ]
  },
  {
   "cell_type": "markdown",
   "id": "d29397d0",
   "metadata": {},
   "source": [
    "## 2.1. Библиотеки"
   ]
  },
  {
   "cell_type": "markdown",
   "id": "0dfb5fef",
   "metadata": {},
   "source": [
    "#### Numpy"
   ]
  },
  {
   "cell_type": "code",
   "execution_count": null,
   "id": "ca74509e",
   "metadata": {},
   "outputs": [],
   "source": [
    "import numpy as np\n",
    "print(np.__version__)"
   ]
  },
  {
   "cell_type": "code",
   "execution_count": null,
   "id": "b8053f1b",
   "metadata": {},
   "outputs": [],
   "source": [
    "a = np.arange(15).reshape(3, 5)"
   ]
  },
  {
   "cell_type": "code",
   "execution_count": null,
   "id": "1d0801df",
   "metadata": {},
   "outputs": [],
   "source": [
    "а"
   ]
  },
  {
   "cell_type": "markdown",
   "id": "5418449c",
   "metadata": {},
   "source": [
    "#### Matplotlib"
   ]
  },
  {
   "cell_type": "code",
   "execution_count": null,
   "id": "5f891bf9",
   "metadata": {},
   "outputs": [],
   "source": [
    "import matplotlib as mb\n",
    "print(mb.__version__)"
   ]
  },
  {
   "cell_type": "code",
   "execution_count": null,
   "id": "6f06738b",
   "metadata": {},
   "outputs": [],
   "source": [
    "import matplotlib.pyplot as plt\n",
    "\n",
    "# Fixing random state for reproducibility\n",
    "np.random.seed(191)\n",
    "\n",
    "n = 100_000\n",
    "x = np.random.standard_normal(n)\n",
    "y = 2.0 + 3.0 * x + 4.0 * np.random.standard_normal(n)\n",
    "xlim = x.min(), x.max()\n",
    "ylim = y.min(), y.max()\n",
    "\n",
    "fig, (ax0, ax1) = plt.subplots(ncols=2, sharey=True, figsize=(9, 4))\n",
    "\n",
    "hb = ax0.hexbin(x, y, gridsize=50, cmap='inferno')\n",
    "ax0.set(xlim=xlim, ylim=ylim)\n",
    "ax0.set_title(\"Hexagon binning\")\n",
    "cb = fig.colorbar(hb, ax=ax0, label='counts')\n",
    "\n",
    "hb = ax1.hexbin(x, y, gridsize=50, bins='log', cmap='inferno')\n",
    "ax1.set(xlim=xlim, ylim=ylim)\n",
    "ax1.set_title(\"With a log color scale\")\n",
    "cb = fig.colorbar(hb, ax=ax1, label='log10(N)')\n",
    "\n",
    "plt.show()"
   ]
  },
  {
   "cell_type": "markdown",
   "id": "7a55f86a",
   "metadata": {},
   "source": [
    "#### Pandas"
   ]
  },
  {
   "cell_type": "code",
   "execution_count": null,
   "id": "cca405bd",
   "metadata": {},
   "outputs": [],
   "source": [
    "import pandas as pd\n",
    "print(pd.__version__)"
   ]
  },
  {
   "cell_type": "code",
   "execution_count": null,
   "id": "baaf00ab",
   "metadata": {},
   "outputs": [],
   "source": [
    "pd.read_json?"
   ]
  },
  {
   "cell_type": "code",
   "execution_count": null,
   "id": "dc2efd0f",
   "metadata": {},
   "outputs": [],
   "source": [
    "df = pd.read_json(\"https://data.smcgov.org/resource/mb6a-xn89.json\")\n",
    "\n",
    "df.head(5)"
   ]
  },
  {
   "cell_type": "markdown",
   "id": "98b879ee",
   "metadata": {},
   "source": [
    "#### Plotly"
   ]
  },
  {
   "cell_type": "code",
   "execution_count": null,
   "id": "e02a43e3",
   "metadata": {},
   "outputs": [],
   "source": [
    "# Python3 imports \n",
    "from scipy.integrate import odeint\n",
    "import numpy as np\n",
    "import math\n",
    "import plotly.graph_objects as go\n",
    "import plotly.tools as tls\n",
    "from plotly.offline import plot, iplot, init_notebook_mode\n",
    "from IPython.core.display import display, HTML\n",
    "init_notebook_mode(connected = True)\n",
    "config={'showLink': False, 'displayModeBar': False}\n",
    " \n",
    "\n",
    "# Function for calculating diff equations\n",
    "def deriv(y, t, N, beta, gamma):\n",
    "    S, I, R = y\n",
    "    dSdt = -beta * S * I / N\n",
    "    dIdt = beta * S * I / N - gamma * I\n",
    "    dRdt = gamma * I\n",
    "    return dSdt, dIdt, dRdt\n",
    "\n",
    "# Create list of Scatter plots\n",
    "data = []\n",
    "for i in range(1, 51, 1):\n",
    "    N = 1000 \n",
    "    beta = 1.0\n",
    "    D = i \n",
    "    gamma = 1.0 / D\n",
    "    # initial conditions: one infected, rest susceptible\n",
    "    S0, I0, R0 = 999, 1, 0  \n",
    "    # t: time points from begining of desiase \n",
    "    t = np.linspace(0, 49, 50) \n",
    "    # Initial conditions vector\n",
    "    y0 = S0, I0, R0 \n",
    "    # Integrate the SIR equations over the time grid, t.\n",
    "    ret = odeint(deriv, y0, t, args=(N, beta, gamma))\n",
    "    S, I, R = ret.T\n",
    "    # Plot Model using plotly \n",
    "    \n",
    "    data_1 = go.Scatter(x = t, \n",
    "                        y = S, \n",
    "                        mode = 'lines',\n",
    "                        visible = False,\n",
    "                        line = dict(color=\"blue\", \n",
    "                                  width=2),\n",
    "                        name = \"Подлежни; <i>S(t)</i>\",\n",
    "                        hovertemplate = '<i> %{y:.0f} </i> луѓе')\n",
    "    \n",
    "    data_2 = go.Scatter(x = t, \n",
    "                        y = I, \n",
    "                        mode = 'lines',\n",
    "                        visible = False,\n",
    "                        line = dict(color=\"red\",\n",
    "                                  width=2),\n",
    "                        name = \"Заразени; <i>I(t)</i>\",\n",
    "                        hovertemplate = '<i> %{y:.0f} </i> луѓе')\n",
    "    \n",
    "    data_3 = go.Scatter(x = t, \n",
    "                        y = R, \n",
    "                        mode = 'lines',\n",
    "                        visible = False,\n",
    "                        line = dict(color=\"green\",\n",
    "                                    width=2),\n",
    "                        name = \"Излекувани; <i>R(t)</i>\",\n",
    "                        hovertemplate = '<i> %{y: .0f} </i> луѓе')\n",
    "    data.append(data_1)\n",
    "    data.append(data_2)\n",
    "    data.append(data_3)\n",
    "\n",
    "\n",
    "# Toggle frist slice to be visible\n",
    "data[3]['visible'] = True\n",
    "data[4]['visible'] = True\n",
    "data[5]['visible'] = True\n",
    "\n",
    "# Create steps and slider\n",
    "steps = []\n",
    "for i in range(0, 50, 1):\n",
    "    step = dict(\n",
    "        method = 'restyle',  \n",
    "        args = ['visible', [False]*150],\n",
    "        label = str(i+1))\n",
    "    for j in range(0,3):\n",
    "        step['args'][1][i*3+j] = True # Toggle i, i+1, i+2 trace to \"visible\"\n",
    "    \n",
    "    steps.append(step)\n",
    "\n",
    "sliders = [dict(\n",
    "    active = 1,\n",
    "    currentvalue = {'prefix':\n",
    "                    \"Бројот на денови што личноста е заразен и ја шири болеста  &#x2192; <i>D</i> = <b>\"},\n",
    "    pad = {\"t\": 90, \"b\": 10},\n",
    "    steps = steps\n",
    ")]\n",
    "\n",
    "# Setup the layout of the figure\n",
    "layout = go.Layout(title = 'SIR модел (1000 луѓе); \\t <i>D</i>',\n",
    "                  title_x = 0.5, \n",
    "                  xaxis_title='<i>t</i>',\n",
    "                  xaxis=dict(range=[0,50], \n",
    "                             mirror=False,\n",
    "                             ticks='outside',\n",
    "                             tickvals = [0, 5, 10, 15, 20, 25, 30, 35, 40, 45, 50],\n",
    "                             showline=True,\n",
    "                             linecolor='#000',\n",
    "                             tickfont = dict(size=11)),\n",
    "                  yaxis_title='Број на луѓе',\n",
    "                  yaxis=dict(range=[0,1000], \n",
    "                             mirror=False,\n",
    "                             ticks='outside', \n",
    "                             showline=True, \n",
    "                             showspikes = True, \n",
    "                             linecolor='#000',\n",
    "                             tickvals = list(range(0, 1001, 100)), \n",
    "                             tickfont = dict(size=11)),\n",
    "                  hovermode = \"x unified\",\n",
    "                  plot_bgcolor='#fff', \n",
    "                  width = 640, \n",
    "                  height = 400,\n",
    "                  sliders = sliders,\n",
    "                  font = dict(size = 10),\n",
    "                  margin=go.layout.Margin(l=50,\n",
    "                                         r=50,\n",
    "                                         b=60,\n",
    "                                         t=35))\n",
    "\n",
    "# Plot function saves as html or with ipplot\n",
    "fig1_1_a = dict(data=data, layout=layout)\n",
    "iplot(fig1_1_a)"
   ]
  },
  {
   "cell_type": "code",
   "execution_count": null,
   "id": "17949259",
   "metadata": {},
   "outputs": [],
   "source": []
  },
  {
   "cell_type": "markdown",
   "id": "55b701e1",
   "metadata": {},
   "source": [
    "#### ipywidgets"
   ]
  },
  {
   "cell_type": "code",
   "execution_count": 1,
   "id": "fb98c4cf",
   "metadata": {},
   "outputs": [
    {
     "data": {
      "application/vnd.jupyter.widget-view+json": {
       "model_id": "479556a30c9440258fde0113b3bc74d0",
       "version_major": 2,
       "version_minor": 0
      },
      "text/plain": [
       "Box(children=(Box(children=(Label(value='Age of the captain'), IntSlider(value=40, max=60, min=40)), layout=La…"
      ]
     },
     "metadata": {},
     "output_type": "display_data"
    }
   ],
   "source": [
    "from ipywidgets import Layout, Button, Box, FloatText, Textarea, Dropdown, Label, IntSlider\n",
    "\n",
    "form_item_layout = Layout(\n",
    "    display='flex',\n",
    "    flex_flow='row',\n",
    "    justify_content='space-between'\n",
    ")\n",
    "\n",
    "form_items = [\n",
    "    Box([Label(value='Age of the captain'), IntSlider(min=40, max=60)], layout=form_item_layout),\n",
    "    Box([Label(value='Egg style'),\n",
    "         Dropdown(options=['Scrambled', 'Sunny side up', 'Over easy'])], layout=form_item_layout),\n",
    "    Box([Label(value='Ship size'),\n",
    "         FloatText()], layout=form_item_layout),\n",
    "    Box([Label(value='Information'),\n",
    "         Textarea()], layout=form_item_layout)\n",
    "]\n",
    "\n",
    "form = Box(form_items, layout=Layout(\n",
    "    display='flex',\n",
    "    flex_flow='column',\n",
    "    border='solid 2px',\n",
    "    align_items='stretch',\n",
    "    width='50%'\n",
    "))\n",
    "form"
   ]
  },
  {
   "cell_type": "code",
   "execution_count": null,
   "id": "7e8cc37f",
   "metadata": {},
   "outputs": [],
   "source": []
  },
  {
   "cell_type": "code",
   "execution_count": null,
   "id": "c062e290",
   "metadata": {},
   "outputs": [],
   "source": []
  },
  {
   "cell_type": "markdown",
   "id": "3f47bb7d",
   "metadata": {},
   "source": [
    "###  Корисно \n",
    "Anaconda: https://www.anaconda.com/products/individual\n",
    "\n",
    "Git: https://git-scm.com/\n",
    "\n",
    "Google Colaboratory: https://colab.research.google.com/notebooks/intro.ipynb\n",
    "\n",
    "Nbviewer: https://nbviewer.org/\n",
    "\n",
    "Binder: https://mybinder.org/\n",
    "\n",
    "Dash: https://dash.plotly.com/\n",
    "\n",
    "Plotly: https://plotly.com/python/\n",
    "\n",
    "ipywidgets: https://ipywidgets.readthedocs.io/en/latest/index.html\n",
    "\n",
    "Script of Scripts (полиглот тетратки): https://vatlab.github.io/sos-docs/"
   ]
  },
  {
   "cell_type": "markdown",
   "id": "e51d8d38",
   "metadata": {},
   "source": [
    "## Примери \n",
    "\n",
    "GitHub\n",
    "- https://github.com/FINKI-Research-methodology-in-ICT\n",
    "- https://github.com/Notebook-Factory\n",
    "\n",
    "\n",
    "Пример од лански домашни\n",
    "- Давор Димовски, Бранко Бајдов: https://notebook-factory.github.io/RRIFT_page/RRIFT.html \n",
    "- Давид Галевски: https://nbviewer.org/github/Notebook-Factory/ihMT_notebooks/blob/main/domasno_notebook.ipynb \n",
    "\n",
    "\n",
    "\n",
    "Community тетратки\n",
    "- Колекција тетратки: https://github.com/jupyter/jupyter/wiki \n",
    "\n",
    "\n",
    "Книги, полиглот тетратки\n",
    "- Python (Agah Karakuzu): https://neurolibre.github.io/myelin-meta-analysis/intro.html\n",
    "- Python (Kiril Zelenkovski): https://zelenkastiot.github.io/COVID-19_book/intro.html\n",
    "- Octave + Python (Mathieu Boudreau): http://qmrlab.org/t1_book/intro\n",
    "- Julia  + Python (Kiril Zelenkovski): https://zelenkastiot.github.io/Phase_book/intro.html\n"
   ]
  }
 ],
 "metadata": {
  "kernelspec": {
   "display_name": "Python 3 (ipykernel)",
   "language": "python",
   "name": "python3"
  },
  "language_info": {
   "codemirror_mode": {
    "name": "ipython",
    "version": 3
   },
   "file_extension": ".py",
   "mimetype": "text/x-python",
   "name": "python",
   "nbconvert_exporter": "python",
   "pygments_lexer": "ipython3",
   "version": "3.9.7"
  }
 },
 "nbformat": 4,
 "nbformat_minor": 5
}
